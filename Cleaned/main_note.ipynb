{
 "cells": [
  {
   "cell_type": "code",
   "execution_count": 2,
   "metadata": {
    "pycharm": {
     "is_executing": false,
     "name": "#%%\n"
    }
   },
   "outputs": [],
   "source": [
    "import numpy as np\n",
    "import pandas as pd\n",
    "\n",
    "from Cleaned.constants import base_bracket_url\n",
    "from Cleaned.bracket_extraciton import get_so_far, get_bracket, get_group\n",
    "from Cleaned.comp_bracket import *\n",
    "\n",
    "from Cleaned.constants import rounds"
   ]
  },
  {
   "cell_type": "code",
   "execution_count": 3,
   "metadata": {
    "pycharm": {
     "is_executing": false,
     "name": "#%%\n"
    }
   },
   "outputs": [
    {
     "name": "stderr",
     "output_type": "stream",
     "text": [
      "\n",
      "\n",
      "====== WebDriver manager ======\n",
      "Current google-chrome version is 98.0.4758\n",
      "Get LATEST chromedriver version for 98.0.4758 google-chrome\n",
      "Driver [C:\\Users\\aidan\\.wdm\\drivers\\chromedriver\\win32\\98.0.4758.102\\chromedriver.exe] found in cache\n",
      "C:\\Users\\aidan\\Box Sync\\Main\\Programming\\NCAA Tournament\\NCAA_Tournament\\Cleaned\\bracket_extraciton.py:178: UserWarning: No parser was explicitly specified, so I'm using the best available HTML parser for this system (\"lxml\"). This usually isn't a problem, but if you run this code on another system, or in a different virtual environment, it may use a different parser and behave differently.\n",
      "\n",
      "The code that caused this warning is on line 178 of the file C:\\Users\\aidan\\Box Sync\\Main\\Programming\\NCAA Tournament\\NCAA_Tournament\\Cleaned\\bracket_extraciton.py. To get rid of this warning, pass the additional argument 'features=\"lxml\"' to the BeautifulSoup constructor.\n",
      "\n",
      "  soup = BeautifulSoup(parse2(group))\n"
     ]
    },
    {
     "name": "stdout",
     "output_type": "stream",
     "text": [
      "('entry?entryID=45713262', 'Aidansg')\n",
      "('entry?entryID=46065031', 'low risk low reward')\n",
      "('entry?entryID=43512529', 'mgsully65 1')\n",
      "('entry?entryID=43978522', 'sanersully')\n",
      "('entry?entryID=37600596', 'smgilson 1')\n",
      "('entry?entryID=42007304', 'Cgilly61 1')\n",
      "('entry?entryID=43902748', 'TGilly')\n",
      "('entry?entryID=43377775', 'KMG2021')\n",
      "('entry?entryID=38025176', 'JMGilly_1')\n",
      "('entry?entryID=38023192', 'Ameliasg97 1')\n"
     ]
    }
   ],
   "source": [
    "dad_group = \"https://fantasy.espn.com/tournament-challenge-bracket/2021/en/group?groupID=3150699\"\n",
    "yale_group = \"https://fantasy.espn.com/tournament-challenge-bracket/2021/en/group?groupID=3993790\"\n",
    "\n",
    "IDs = get_group(dad_group)\n",
    "\n",
    "results, team_to_seed = get_so_far(base_bracket_url + IDs[0][0])\n",
    "\n",
    "brackets = []\n",
    "for x in range(len(IDs)):\n",
    "    print(IDs[x])\n",
    "    bracket = get_bracket(base_bracket_url + IDs[x][0])\n",
    "    brackets.append(bracket)"
   ]
  },
  {
   "cell_type": "code",
   "execution_count": 4,
   "metadata": {
    "pycharm": {
     "is_executing": false
    }
   },
   "outputs": [],
   "source": [
    "results['4'] = ['', '','','']\n",
    "results['2'] = ['','']\n",
    "results['1'] = ['']"
   ]
  },
  {
   "cell_type": "code",
   "execution_count": 5,
   "metadata": {
    "pycharm": {
     "is_executing": false,
     "name": "#%%\n"
    }
   },
   "outputs": [
    {
     "ename": "NameError",
     "evalue": "name 'comp_brackets_other_weighted' is not defined",
     "output_type": "error",
     "traceback": [
      "\u001b[1;31m---------------------------------------------------------------------------\u001b[0m",
      "\u001b[1;31mNameError\u001b[0m                                 Traceback (most recent call last)",
      "\u001b[1;32m<ipython-input-5-0c8a57d9381a>\u001b[0m in \u001b[0;36m<module>\u001b[1;34m\u001b[0m\n\u001b[1;32m----> 1\u001b[1;33m \u001b[0mtotal\u001b[0m \u001b[1;33m=\u001b[0m \u001b[0mcomp_brackets_weighted\u001b[0m\u001b[1;33m(\u001b[0m\u001b[0mresults\u001b[0m\u001b[1;33m,\u001b[0m \u001b[0mbrackets\u001b[0m\u001b[1;33m,\u001b[0m \u001b[0mteam_to_seed\u001b[0m\u001b[1;33m,\u001b[0m \u001b[0mrounds\u001b[0m\u001b[1;33m,\u001b[0m \u001b[0mseed_vs_seed\u001b[0m\u001b[1;33m)\u001b[0m\u001b[1;33m\u001b[0m\u001b[1;33m\u001b[0m\u001b[0m\n\u001b[0m\u001b[0;32m      2\u001b[0m \u001b[0mprint\u001b[0m\u001b[1;33m(\u001b[0m\u001b[0mtotal\u001b[0m\u001b[1;33m)\u001b[0m\u001b[1;33m\u001b[0m\u001b[1;33m\u001b[0m\u001b[0m\n\u001b[0;32m      3\u001b[0m \u001b[1;31m# total = comp_brackets(results, brackets)\u001b[0m\u001b[1;33m\u001b[0m\u001b[1;33m\u001b[0m\u001b[1;33m\u001b[0m\u001b[0m\n\u001b[0;32m      4\u001b[0m \u001b[0mtotal\u001b[0m \u001b[1;33m=\u001b[0m \u001b[0mnp\u001b[0m\u001b[1;33m.\u001b[0m\u001b[0marray\u001b[0m\u001b[1;33m(\u001b[0m\u001b[0mtotal\u001b[0m\u001b[1;33m)\u001b[0m \u001b[1;33m*\u001b[0m \u001b[1;36m100\u001b[0m\u001b[1;33m\u001b[0m\u001b[1;33m\u001b[0m\u001b[0m\n",
      "\u001b[1;32m~\\Box Sync\\Main\\Programming\\NCAA Tournament\\NCAA_Tournament\\Cleaned\\comp_bracket.py\u001b[0m in \u001b[0;36mcomp_brackets_weighted\u001b[1;34m(results, brackets, team_to_seed, rounds, seed_vs_seed, round_index, index, likelihood)\u001b[0m\n\u001b[0;32m     85\u001b[0m             \u001b[1;32mreturn\u001b[0m \u001b[0mtotal_branch\u001b[0m\u001b[1;33m\u001b[0m\u001b[1;33m\u001b[0m\u001b[0m\n\u001b[0;32m     86\u001b[0m         \u001b[1;32melse\u001b[0m\u001b[1;33m:\u001b[0m\u001b[1;33m\u001b[0m\u001b[1;33m\u001b[0m\u001b[0m\n\u001b[1;32m---> 87\u001b[1;33m             return comp_brackets_other_weighted(results, brackets, team_to_seed, next_round_index, next_index,\n\u001b[0m\u001b[0;32m     88\u001b[0m                                                 likelihood)\n",
      "\u001b[1;31mNameError\u001b[0m: name 'comp_brackets_other_weighted' is not defined"
     ]
    }
   ],
   "source": [
    "total = comp_brackets_weighted(results, brackets, team_to_seed, rounds, seed_vs_seed)\n",
    "print(total)\n",
    "# total = comp_brackets(results, brackets)\n",
    "total = np.array(total) * 100"
   ]
  },
  {
   "cell_type": "code",
   "execution_count": null,
   "metadata": {
    "pycharm": {
     "name": "#%%\n"
    }
   },
   "outputs": [],
   "source": [
    "columns = [\"1st\", \"2nd\", \"3rd\"]\n",
    "for x in range(3, len(IDs)):\n",
    "    columns.append(str(x + 1) + \"th\")\n",
    "rows = [entry[1] for entry in IDs]\n",
    "\n",
    "df = pd.DataFrame(total, columns=columns, index=rows)\n",
    "df.to_excel(\"DadAlwaysWins2_3.xlsx\")\n",
    "# df.to_excel(\"YSM_Class_of_2023_2.xlsx\")\n"
   ]
  }
 ],
 "metadata": {
  "kernelspec": {
   "display_name": "PyCharm (Opioid_Mortality)",
   "language": "python",
   "name": "pycharm-fc4d8547"
  },
  "language_info": {
   "codemirror_mode": {
    "name": "ipython",
    "version": 3
   },
   "file_extension": ".py",
   "mimetype": "text/x-python",
   "name": "python",
   "nbconvert_exporter": "python",
   "pygments_lexer": "ipython3",
   "version": "3.7.6"
  },
  "pycharm": {
   "stem_cell": {
    "cell_type": "raw",
    "metadata": {
     "collapsed": false
    },
    "source": []
   }
  }
 },
 "nbformat": 4,
 "nbformat_minor": 1
}
