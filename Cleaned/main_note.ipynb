{
 "cells": [
  {
   "cell_type": "code",
   "execution_count": 4,
   "metadata": {
    "pycharm": {
     "is_executing": false,
     "name": "#%%\n"
    }
   },
   "outputs": [],
   "source": [
    "import numpy as np\n",
    "import pandas as pd\n",
    "\n",
    "from constants import base_bracket_url\n",
    "from bracket_extraciton import get_so_far, get_bracket, get_group\n",
    "from comp_bracket import *\n",
    "\n",
    "from constants import rounds"
   ]
  },
  {
   "cell_type": "code",
   "execution_count": 5,
   "metadata": {
    "pycharm": {
     "is_executing": false,
     "name": "#%%\n"
    }
   },
   "outputs": [
    {
     "name": "stdout",
     "output_type": "stream",
     "text": [
      "\n"
     ]
    },
    {
     "name": "stderr",
     "output_type": "stream",
     "text": [
      "[WDM] - ====== WebDriver manager ======\n",
      "[WDM] - Current google-chrome version is 111.0.5563\n",
      "[WDM] - Get LATEST chromedriver version for 111.0.5563 google-chrome\n",
      "[WDM] - There is no [win32] chromedriver for browser 111.0.5563 in cache\n",
      "[WDM] - About to download new driver from https://chromedriver.storage.googleapis.com/111.0.5563.64/chromedriver_win32.zip\n",
      "[WDM] - Driver has been saved in cache [C:\\Users\\aidan\\.wdm\\drivers\\chromedriver\\win32\\111.0.5563.64]\n",
      "c:\\Users\\aidan\\Box Sync\\Main\\VSCode\\NCAA_Tournament\\Cleaned\\bracket_extraciton.py:176: GuessedAtParserWarning: No parser was explicitly specified, so I'm using the best available HTML parser for this system (\"lxml\"). This usually isn't a problem, but if you run this code on another system, or in a different virtual environment, it may use a different parser and behave differently.\n",
      "\n",
      "The code that caused this warning is on line 176 of the file c:\\Users\\aidan\\Box Sync\\Main\\VSCode\\NCAA_Tournament\\Cleaned\\bracket_extraciton.py. To get rid of this warning, pass the additional argument 'features=\"lxml\"' to the BeautifulSoup constructor.\n",
      "\n",
      "  soup = BeautifulSoup(parse2(group))\n"
     ]
    },
    {
     "ename": "IndexError",
     "evalue": "list index out of range",
     "output_type": "error",
     "traceback": [
      "\u001b[1;31m---------------------------------------------------------------------------\u001b[0m",
      "\u001b[1;31mIndexError\u001b[0m                                Traceback (most recent call last)",
      "\u001b[1;32mc:\\Users\\aidan\\Box Sync\\Main\\VSCode\\NCAA_Tournament\\Cleaned\\main_note.ipynb Cell 2\u001b[0m in \u001b[0;36m<cell line: 4>\u001b[1;34m()\u001b[0m\n\u001b[0;32m      <a href='vscode-notebook-cell:/c%3A/Users/aidan/Box%20Sync/Main/VSCode/NCAA_Tournament/Cleaned/main_note.ipynb#W1sZmlsZQ%3D%3D?line=0'>1</a>\u001b[0m dad_group \u001b[39m=\u001b[39m \u001b[39m\"\u001b[39m\u001b[39mhttps://fantasy.espn.com/tournament-challenge-bracket/2021/en/group?groupID=3150699\u001b[39m\u001b[39m\"\u001b[39m\n\u001b[0;32m      <a href='vscode-notebook-cell:/c%3A/Users/aidan/Box%20Sync/Main/VSCode/NCAA_Tournament/Cleaned/main_note.ipynb#W1sZmlsZQ%3D%3D?line=1'>2</a>\u001b[0m yale_group \u001b[39m=\u001b[39m \u001b[39m\"\u001b[39m\u001b[39mhttps://fantasy.espn.com/tournament-challenge-bracket/2021/en/group?groupID=3993790\u001b[39m\u001b[39m\"\u001b[39m\n\u001b[1;32m----> <a href='vscode-notebook-cell:/c%3A/Users/aidan/Box%20Sync/Main/VSCode/NCAA_Tournament/Cleaned/main_note.ipynb#W1sZmlsZQ%3D%3D?line=3'>4</a>\u001b[0m IDs \u001b[39m=\u001b[39m get_group(dad_group)\n\u001b[0;32m      <a href='vscode-notebook-cell:/c%3A/Users/aidan/Box%20Sync/Main/VSCode/NCAA_Tournament/Cleaned/main_note.ipynb#W1sZmlsZQ%3D%3D?line=5'>6</a>\u001b[0m results, team_to_seed \u001b[39m=\u001b[39m get_so_far(base_bracket_url \u001b[39m+\u001b[39m IDs[\u001b[39m0\u001b[39m][\u001b[39m0\u001b[39m])\n\u001b[0;32m      <a href='vscode-notebook-cell:/c%3A/Users/aidan/Box%20Sync/Main/VSCode/NCAA_Tournament/Cleaned/main_note.ipynb#W1sZmlsZQ%3D%3D?line=7'>8</a>\u001b[0m brackets \u001b[39m=\u001b[39m []\n",
      "File \u001b[1;32mc:\\Users\\aidan\\Box Sync\\Main\\VSCode\\NCAA_Tournament\\Cleaned\\bracket_extraciton.py:178\u001b[0m, in \u001b[0;36mget_group\u001b[1;34m(group)\u001b[0m\n\u001b[0;32m    176\u001b[0m soup \u001b[39m=\u001b[39m BeautifulSoup(parse2(group))\n\u001b[0;32m    177\u001b[0m mydivs \u001b[39m=\u001b[39m soup\u001b[39m.\u001b[39mfind_all(\u001b[39m\"\u001b[39m\u001b[39mtable\u001b[39m\u001b[39m\"\u001b[39m, {\u001b[39m\"\u001b[39m\u001b[39mclass\u001b[39m\u001b[39m\"\u001b[39m: \u001b[39m\"\u001b[39m\u001b[39mtype_entries\u001b[39m\u001b[39m\"\u001b[39m})\n\u001b[1;32m--> 178\u001b[0m entries \u001b[39m=\u001b[39m mydivs[\u001b[39m0\u001b[39;49m]\u001b[39m.\u001b[39mfind_all(\u001b[39m\"\u001b[39m\u001b[39ma\u001b[39m\u001b[39m\"\u001b[39m, {\u001b[39m\"\u001b[39m\u001b[39mclass\u001b[39m\u001b[39m\"\u001b[39m: \u001b[39m\"\u001b[39m\u001b[39mentry\u001b[39m\u001b[39m\"\u001b[39m})\n\u001b[0;32m    179\u001b[0m \u001b[39mfor\u001b[39;00m entry \u001b[39min\u001b[39;00m entries:\n\u001b[0;32m    180\u001b[0m     IDs\u001b[39m.\u001b[39mappend((entry\u001b[39m.\u001b[39mget(\u001b[39m'\u001b[39m\u001b[39mhref\u001b[39m\u001b[39m'\u001b[39m), entry\u001b[39m.\u001b[39mtext\u001b[39m.\u001b[39mstrip()))\n",
      "\u001b[1;31mIndexError\u001b[0m: list index out of range"
     ]
    }
   ],
   "source": [
    "dad_group = \"https://fantasy.espn.com/tournament-challenge-bracket/2021/en/group?groupID=3150699\"\n",
    "yale_group = \"https://fantasy.espn.com/tournament-challenge-bracket/2021/en/group?groupID=3993790\"\n",
    "\n",
    "IDs = get_group(dad_group)\n",
    "\n",
    "results, team_to_seed = get_so_far(base_bracket_url + IDs[0][0])\n",
    "\n",
    "brackets = []\n",
    "for x in range(len(IDs)):\n",
    "    print(IDs[x])\n",
    "    bracket = get_bracket(base_bracket_url + IDs[x][0])\n",
    "    brackets.append(bracket)"
   ]
  },
  {
   "cell_type": "code",
   "execution_count": 4,
   "metadata": {
    "pycharm": {
     "is_executing": false
    }
   },
   "outputs": [],
   "source": [
    "results['4'] = ['', '','','']\n",
    "results['2'] = ['','']\n",
    "results['1'] = ['']"
   ]
  },
  {
   "cell_type": "code",
   "execution_count": 1,
   "metadata": {
    "pycharm": {
     "is_executing": false,
     "name": "#%%\n"
    }
   },
   "outputs": [
    {
     "ename": "NameError",
     "evalue": "name 'comp_brackets_weighted' is not defined",
     "output_type": "error",
     "traceback": [
      "\u001b[1;31m---------------------------------------------------------------------------\u001b[0m",
      "\u001b[1;31mNameError\u001b[0m                                 Traceback (most recent call last)",
      "\u001b[1;32mc:\\Users\\aidan\\Box Sync\\Main\\VSCode\\NCAA_Tournament\\Cleaned\\main_note.ipynb Cell 4\u001b[0m in \u001b[0;36m<cell line: 1>\u001b[1;34m()\u001b[0m\n\u001b[1;32m----> <a href='vscode-notebook-cell:/c%3A/Users/aidan/Box%20Sync/Main/VSCode/NCAA_Tournament/Cleaned/main_note.ipynb#W3sZmlsZQ%3D%3D?line=0'>1</a>\u001b[0m total \u001b[39m=\u001b[39m comp_brackets_weighted(results, brackets, team_to_seed, rounds, seed_vs_seed)\n\u001b[0;32m      <a href='vscode-notebook-cell:/c%3A/Users/aidan/Box%20Sync/Main/VSCode/NCAA_Tournament/Cleaned/main_note.ipynb#W3sZmlsZQ%3D%3D?line=1'>2</a>\u001b[0m \u001b[39mprint\u001b[39m(total)\n\u001b[0;32m      <a href='vscode-notebook-cell:/c%3A/Users/aidan/Box%20Sync/Main/VSCode/NCAA_Tournament/Cleaned/main_note.ipynb#W3sZmlsZQ%3D%3D?line=2'>3</a>\u001b[0m \u001b[39m# total = comp_brackets(results, brackets)\u001b[39;00m\n",
      "\u001b[1;31mNameError\u001b[0m: name 'comp_brackets_weighted' is not defined"
     ]
    }
   ],
   "source": [
    "total = comp_brackets_weighted(results, brackets, team_to_seed, rounds, seed_vs_seed)\n",
    "print(total)\n",
    "# total = comp_brackets(results, brackets)\n",
    "total = total / np.sum(total[0]) * 100"
   ]
  },
  {
   "cell_type": "code",
   "execution_count": null,
   "metadata": {
    "pycharm": {
     "name": "#%%\n"
    }
   },
   "outputs": [],
   "source": [
    "columns = [\"1st\", \"2nd\", \"3rd\"]\n",
    "for x in range(3, len(IDs)):\n",
    "    columns.append(str(x + 1) + \"th\")\n",
    "rows = [entry[1] for entry in IDs]\n",
    "\n",
    "df = pd.DataFrame(total, columns=columns, index=rows)\n",
    "df.to_excel(\"DadAlwaysWins2_3.xlsx\")\n",
    "# df.to_excel(\"YSM_Class_of_2023_2.xlsx\")\n"
   ]
  }
 ],
 "metadata": {
  "kernelspec": {
   "display_name": "Python 3",
   "language": "python",
   "name": "python3"
  },
  "language_info": {
   "codemirror_mode": {
    "name": "ipython",
    "version": 3
   },
   "file_extension": ".py",
   "mimetype": "text/x-python",
   "name": "python",
   "nbconvert_exporter": "python",
   "pygments_lexer": "ipython3",
   "version": "3.10.5"
  },
  "pycharm": {
   "stem_cell": {
    "cell_type": "raw",
    "metadata": {
     "collapsed": false
    },
    "source": []
   }
  }
 },
 "nbformat": 4,
 "nbformat_minor": 1
}
